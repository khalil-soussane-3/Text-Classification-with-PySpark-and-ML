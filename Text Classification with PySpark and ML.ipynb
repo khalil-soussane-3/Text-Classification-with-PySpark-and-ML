{
 "cells": [
  {
   "cell_type": "markdown",
   "id": "8dd4eca4",
   "metadata": {},
   "source": [
    "# Text Classification with PySpark"
   ]
  },
  {
   "cell_type": "code",
   "execution_count": 1,
   "id": "98ef95af",
   "metadata": {},
   "outputs": [],
   "source": [
    "from pyspark import SparkContext"
   ]
  },
  {
   "cell_type": "code",
   "execution_count": 2,
   "id": "c7bf19cf",
   "metadata": {},
   "outputs": [],
   "source": [
    "sc = SparkContext(master=\"local[2]\")"
   ]
  },
  {
   "cell_type": "code",
   "execution_count": 3,
   "id": "56794862",
   "metadata": {},
   "outputs": [
    {
     "data": {
      "text/html": [
       "\n",
       "        <div>\n",
       "            <p><b>SparkContext</b></p>\n",
       "\n",
       "            <p><a href=\"http://khalil:4041\">Spark UI</a></p>\n",
       "\n",
       "            <dl>\n",
       "              <dt>Version</dt>\n",
       "                <dd><code>v3.2.3</code></dd>\n",
       "              <dt>Master</dt>\n",
       "                <dd><code>local[2]</code></dd>\n",
       "              <dt>AppName</dt>\n",
       "                <dd><code>pyspark-shell</code></dd>\n",
       "            </dl>\n",
       "        </div>\n",
       "        "
      ],
      "text/plain": [
       "<SparkContext master=local[2] appName=pyspark-shell>"
      ]
     },
     "execution_count": 3,
     "metadata": {},
     "output_type": "execute_result"
    }
   ],
   "source": [
    "sc"
   ]
  },
  {
   "cell_type": "code",
   "execution_count": 4,
   "id": "b51774cd",
   "metadata": {},
   "outputs": [],
   "source": [
    "from pyspark.sql import SparkSession"
   ]
  },
  {
   "cell_type": "code",
   "execution_count": 5,
   "id": "2546c420",
   "metadata": {},
   "outputs": [],
   "source": [
    "spark = SparkSession.builder.appName(\"TextClassifierwithPySpark\").getOrCreate()"
   ]
  },
  {
   "cell_type": "code",
   "execution_count": 8,
   "id": "d55d0ad2",
   "metadata": {},
   "outputs": [],
   "source": [
    "df = spark.read.csv(\"data/udemy_courses_clean.csv\",header=True,inferSchema=True)"
   ]
  },
  {
   "cell_type": "code",
   "execution_count": 10,
   "id": "cb57a4bc",
   "metadata": {},
   "outputs": [
    {
     "name": "stdout",
     "output_type": "stream",
     "text": [
      "+---+---------+--------------------+--------------------+-------+-----+---------------+-----------+------------+------------------+----------------+--------------------+----------------+--------------------+\n",
      "|_c0|course_id|        course_title|                 url|is_paid|price|num_subscribers|num_reviews|num_lectures|             level|content_duration| published_timestamp|         subject|  clean_course_title|\n",
      "+---+---------+--------------------+--------------------+-------+-----+---------------+-----------+------------+------------------+----------------+--------------------+----------------+--------------------+\n",
      "|  0|  1070968|Ultimate Investme...|https://www.udemy...|   True|  200|           2147|         23|          51|        All Levels|       1.5 hours|2017-01-18T20:58:58Z|Business Finance|Ultimate Investme...|\n",
      "|  1|  1113822|Complete GST Cour...|https://www.udemy...|   True|   75|           2792|        923|         274|        All Levels|        39 hours|2017-03-09T16:34:20Z|Business Finance|Complete GST Cour...|\n",
      "|  2|  1006314|Financial Modelin...|https://www.udemy...|   True|   45|           2174|         74|          51|Intermediate Level|       2.5 hours|2016-12-19T19:26:30Z|Business Finance|Financial Modelin...|\n",
      "|  3|  1210588|Beginner to Pro -...|https://www.udemy...|   True|   95|           2451|         11|          36|        All Levels|         3 hours|2017-05-30T20:07:24Z|Business Finance|Beginner Pro  Fin...|\n",
      "|  4|  1011058|How To Maximize Y...|https://www.udemy...|   True|  200|           1276|         45|          26|Intermediate Level|         2 hours|2016-12-13T14:57:18Z|Business Finance|Maximize Profits ...|\n",
      "|  5|   192870|Trading Penny Sto...|https://www.udemy...|   True|  150|           9221|        138|          25|        All Levels|         3 hours|2014-05-02T15:13:30Z|Business Finance|Trading Penny Sto...|\n",
      "|  6|   739964|Investing And Tra...|https://www.udemy...|   True|   65|           1540|        178|          26|    Beginner Level|          1 hour|2016-02-21T18:23:12Z|Business Finance|Investing Trading...|\n",
      "|  7|   403100|Trading Stock Cha...|https://www.udemy...|   True|   95|           2917|        148|          23|        All Levels|       2.5 hours|2015-01-30T22:13:03Z|Business Finance|Trading Stock Cha...|\n",
      "|  8|   476268|Options Trading 3...|https://www.udemy...|   True|  195|           5172|         34|          38|      Expert Level|       2.5 hours|2015-05-28T00:14:03Z|Business Finance|Options Trading 3...|\n",
      "|  9|  1167710|The Only Investme...|https://www.udemy...|   True|  200|            827|         14|          15|        All Levels|          1 hour|2017-04-18T18:13:32Z|Business Finance|Investment Strate...|\n",
      "| 10|   592338|Forex Trading Sec...|https://www.udemy...|   True|  200|           4284|         93|          76|        All Levels|         5 hours|2015-09-11T16:47:02Z|Business Finance|Forex Trading Sec...|\n",
      "| 11|   975046|Trading Options W...|https://www.udemy...|   True|  200|           1380|         42|          17|        All Levels|          1 hour|2016-10-18T22:52:31Z|Business Finance|Trading Options M...|\n",
      "| 12|   742602|Financial Managem...|https://www.udemy...|   True|   30|           3607|         21|          19|        All Levels|       1.5 hours|2016-02-03T18:04:01Z|Business Finance|Financial Managem...|\n",
      "| 13|   794151|Forex Trading Cou...|https://www.udemy...|   True|  195|           4061|         52|          16|        All Levels|         2 hours|2016-03-16T15:40:19Z|Business Finance|Forex Trading Cou...|\n",
      "| 14|  1196544|Python Algo Tradi...|https://www.udemy...|   True|  200|            294|         19|          42|        All Levels|         7 hours|2017-04-28T16:41:44Z|Business Finance|Python Algo Tradi...|\n",
      "| 15|   504036|Short Selling: Le...|https://www.udemy...|   True|   75|           2276|        106|          19|Intermediate Level|       1.5 hours|2015-06-22T21:18:35Z|Business Finance|Short Selling Lea...|\n",
      "| 16|   719698|Basic Technical A...|https://www.udemy...|   True|   20|           4919|         79|          16|    Beginner Level|       1.5 hours|2016-01-08T17:21:26Z|Business Finance|Basic Technical A...|\n",
      "| 17|   564966|The Complete Char...|https://www.udemy...|   True|  200|           2666|        115|          52|        All Levels|         4 hours|2015-08-10T21:07:35Z|Business Finance|Complete Chart Pa...|\n",
      "| 18|   606928|7 Deadly Mistakes...|https://www.udemy...|   True|   50|           5354|         24|          23|        All Levels|       1.5 hours|2015-09-21T18:10:34Z|Business Finance|7 Deadly Mistakes...|\n",
      "| 19|    58977|Financial Stateme...|https://www.udemy...|   True|   95|           8095|        249|          12|    Beginner Level|         35 mins|2013-06-09T00:21:26Z|Business Finance|Financial Stateme...|\n",
      "+---+---------+--------------------+--------------------+-------+-----+---------------+-----------+------------+------------------+----------------+--------------------+----------------+--------------------+\n",
      "only showing top 20 rows\n",
      "\n"
     ]
    }
   ],
   "source": [
    "df.show()"
   ]
  },
  {
   "cell_type": "code",
   "execution_count": 11,
   "id": "af766f91",
   "metadata": {},
   "outputs": [
    {
     "data": {
      "text/plain": [
       "['_c0',\n",
       " 'course_id',\n",
       " 'course_title',\n",
       " 'url',\n",
       " 'is_paid',\n",
       " 'price',\n",
       " 'num_subscribers',\n",
       " 'num_reviews',\n",
       " 'num_lectures',\n",
       " 'level',\n",
       " 'content_duration',\n",
       " 'published_timestamp',\n",
       " 'subject',\n",
       " 'clean_course_title']"
      ]
     },
     "execution_count": 11,
     "metadata": {},
     "output_type": "execute_result"
    }
   ],
   "source": [
    "df.columns"
   ]
  },
  {
   "cell_type": "code",
   "execution_count": 12,
   "id": "66917904",
   "metadata": {},
   "outputs": [
    {
     "name": "stdout",
     "output_type": "stream",
     "text": [
      "+--------------------+----------------+\n",
      "|        course_title|         subject|\n",
      "+--------------------+----------------+\n",
      "|Ultimate Investme...|Business Finance|\n",
      "|Complete GST Cour...|Business Finance|\n",
      "|Financial Modelin...|Business Finance|\n",
      "|Beginner to Pro -...|Business Finance|\n",
      "|How To Maximize Y...|Business Finance|\n",
      "|Trading Penny Sto...|Business Finance|\n",
      "|Investing And Tra...|Business Finance|\n",
      "|Trading Stock Cha...|Business Finance|\n",
      "|Options Trading 3...|Business Finance|\n",
      "|The Only Investme...|Business Finance|\n",
      "|Forex Trading Sec...|Business Finance|\n",
      "|Trading Options W...|Business Finance|\n",
      "|Financial Managem...|Business Finance|\n",
      "|Forex Trading Cou...|Business Finance|\n",
      "|Python Algo Tradi...|Business Finance|\n",
      "|Short Selling: Le...|Business Finance|\n",
      "|Basic Technical A...|Business Finance|\n",
      "|The Complete Char...|Business Finance|\n",
      "|7 Deadly Mistakes...|Business Finance|\n",
      "|Financial Stateme...|Business Finance|\n",
      "+--------------------+----------------+\n",
      "only showing top 20 rows\n",
      "\n"
     ]
    }
   ],
   "source": [
    "df.select('course_title','subject').show()"
   ]
  },
  {
   "cell_type": "code",
   "execution_count": 13,
   "id": "8bfee721",
   "metadata": {},
   "outputs": [],
   "source": [
    "df = df.select('course_title','subject')"
   ]
  },
  {
   "cell_type": "code",
   "execution_count": 14,
   "id": "2c0e801e",
   "metadata": {},
   "outputs": [
    {
     "name": "stdout",
     "output_type": "stream",
     "text": [
      "+--------------------+----------------+\n",
      "|        course_title|         subject|\n",
      "+--------------------+----------------+\n",
      "|Ultimate Investme...|Business Finance|\n",
      "|Complete GST Cour...|Business Finance|\n",
      "|Financial Modelin...|Business Finance|\n",
      "|Beginner to Pro -...|Business Finance|\n",
      "|How To Maximize Y...|Business Finance|\n",
      "+--------------------+----------------+\n",
      "only showing top 5 rows\n",
      "\n"
     ]
    }
   ],
   "source": [
    "df.show(5)"
   ]
  },
  {
   "cell_type": "code",
   "execution_count": 15,
   "id": "362d54b9",
   "metadata": {},
   "outputs": [
    {
     "name": "stdout",
     "output_type": "stream",
     "text": [
      "+--------------------+-----+\n",
      "|             subject|count|\n",
      "+--------------------+-----+\n",
      "|play Electric Gui...|    1|\n",
      "|Multiply returns ...|    1|\n",
      "|                null|    6|\n",
      "|    Business Finance| 1198|\n",
      "|Introduction Guit...|    1|\n",
      "|Learn Play Fernan...|    1|\n",
      "|      Graphic Design|  603|\n",
      "|Aprende tocar el ...|    1|\n",
      "|     Web Development| 1200|\n",
      "|Learn Classical G...|    1|\n",
      "| Musical Instruments|  676|\n",
      "+--------------------+-----+\n",
      "\n"
     ]
    }
   ],
   "source": [
    "df.groupBy('subject').count().show()"
   ]
  },
  {
   "cell_type": "code",
   "execution_count": 16,
   "id": "d3700963",
   "metadata": {},
   "outputs": [
    {
     "data": {
      "text/plain": [
       "Web Development                                                                                                                                                                                              1200\n",
       "Business Finance                                                                                                                                                                                             1198\n",
       "Musical Instruments                                                                                                                                                                                           676\n",
       "Graphic Design                                                                                                                                                                                                603\n",
       "Multiply returns Value Investinghttpswwwudemycommultiplyyourreturnsusingvalueinvestingtrue2019421963All Levels45 hours20150723T000833Z 874284Weekly Forex Analysis Baraq FX                                     1\n",
       "Learn Play Fernando Sors Study B minorhttpswwwudemycomstudyinbminortrue115140359Intermediate Level43 mins20140127T205816Z 398746Piano Chord Based System  Learn Play Pros Do                                    1\n",
       "play Electric Guitarhttpswwwudemycomelectricguitarbeginnersmethodtrue501105520Beginner Level2 hours20161229T002406Z 42038Learn Piano Today Play Piano Course Quick Lessons                                      1\n",
       "Learn Classical Guitar Technique play Spanish Romancehttpswwwudemycomguitartechniquestrue19513164643All Levels5 hours20131118T175959Z 265888Learn Guitar Worship Learn 4 Songs unlock 1                         1\n",
       "Introduction Guitar A Course Beginnershttpswwwudemycomintroductiontoguitartrue251631156Beginner Level25 hours20141030T155939Z 650804Guitar Master Class Learning Play Guitar Z                                  1\n",
       "Aprende tocar el Acorden de odo con tcnicahttpswwwudemycomaprendeatocarelacordeondeoidoycontecnicatrue25932134Beginner Level4 hours20140916T195145Z 263432Aprende los Secretos de la Armnica con HARPSOUL       1\n",
       "Name: subject, dtype: int64"
      ]
     },
     "execution_count": 16,
     "metadata": {},
     "output_type": "execute_result"
    }
   ],
   "source": [
    "df.toPandas()['subject'].value_counts()"
   ]
  },
  {
   "cell_type": "code",
   "execution_count": 17,
   "id": "11b191d1",
   "metadata": {},
   "outputs": [
    {
     "data": {
      "text/plain": [
       "6"
      ]
     },
     "execution_count": 17,
     "metadata": {},
     "output_type": "execute_result"
    }
   ],
   "source": [
    "# Check For Missing Values\n",
    "df.toPandas()['subject'].isnull().sum()"
   ]
  },
  {
   "cell_type": "code",
   "execution_count": 18,
   "id": "21756b10",
   "metadata": {},
   "outputs": [],
   "source": [
    "# Drop Missing Values\n",
    "df = df.dropna(subset=('subject'))"
   ]
  },
  {
   "cell_type": "code",
   "execution_count": 19,
   "id": "a312fd27",
   "metadata": {},
   "outputs": [
    {
     "data": {
      "text/plain": [
       "0"
      ]
     },
     "execution_count": 19,
     "metadata": {},
     "output_type": "execute_result"
    }
   ],
   "source": [
    "# Check For Missing Values\n",
    "df.toPandas()['subject'].isnull().sum()"
   ]
  },
  {
   "cell_type": "code",
   "execution_count": 20,
   "id": "d2ca6af3",
   "metadata": {},
   "outputs": [],
   "source": [
    "import pyspark.ml.feature"
   ]
  },
  {
   "cell_type": "code",
   "execution_count": 21,
   "id": "5e4ffc09",
   "metadata": {},
   "outputs": [
    {
     "data": {
      "text/plain": [
       "['Binarizer',\n",
       " 'BucketedRandomProjectionLSH',\n",
       " 'BucketedRandomProjectionLSHModel',\n",
       " 'Bucketizer',\n",
       " 'ChiSqSelector',\n",
       " 'ChiSqSelectorModel',\n",
       " 'CountVectorizer',\n",
       " 'CountVectorizerModel',\n",
       " 'DCT',\n",
       " 'ElementwiseProduct',\n",
       " 'FeatureHasher',\n",
       " 'HasFeaturesCol',\n",
       " 'HasHandleInvalid',\n",
       " 'HasInputCol',\n",
       " 'HasInputCols',\n",
       " 'HasLabelCol',\n",
       " 'HasMaxIter',\n",
       " 'HasNumFeatures',\n",
       " 'HasOutputCol',\n",
       " 'HasOutputCols',\n",
       " 'HasRelativeError',\n",
       " 'HasSeed',\n",
       " 'HasStepSize',\n",
       " 'HasThreshold',\n",
       " 'HasThresholds',\n",
       " 'HashingTF',\n",
       " 'IDF',\n",
       " 'IDFModel',\n",
       " 'Imputer',\n",
       " 'ImputerModel',\n",
       " 'IndexToString',\n",
       " 'Interaction',\n",
       " 'JavaEstimator',\n",
       " 'JavaMLReadable',\n",
       " 'JavaMLWritable',\n",
       " 'JavaModel',\n",
       " 'JavaParams',\n",
       " 'JavaTransformer',\n",
       " 'MaxAbsScaler',\n",
       " 'MaxAbsScalerModel',\n",
       " 'MinHashLSH',\n",
       " 'MinHashLSHModel',\n",
       " 'MinMaxScaler',\n",
       " 'MinMaxScalerModel',\n",
       " 'NGram',\n",
       " 'Normalizer',\n",
       " 'OneHotEncoder',\n",
       " 'OneHotEncoderModel',\n",
       " 'PCA',\n",
       " 'PCAModel',\n",
       " 'Param',\n",
       " 'Params',\n",
       " 'PolynomialExpansion',\n",
       " 'QuantileDiscretizer',\n",
       " 'RFormula',\n",
       " 'RFormulaModel',\n",
       " 'RegexTokenizer',\n",
       " 'RobustScaler',\n",
       " 'RobustScalerModel',\n",
       " 'SQLTransformer',\n",
       " 'SparkContext',\n",
       " 'StandardScaler',\n",
       " 'StandardScalerModel',\n",
       " 'StopWordsRemover',\n",
       " 'StringIndexer',\n",
       " 'StringIndexerModel',\n",
       " 'Tokenizer',\n",
       " 'TypeConverters',\n",
       " 'UnivariateFeatureSelector',\n",
       " 'UnivariateFeatureSelectorModel',\n",
       " 'VarianceThresholdSelector',\n",
       " 'VarianceThresholdSelectorModel',\n",
       " 'VectorAssembler',\n",
       " 'VectorIndexer',\n",
       " 'VectorIndexerModel',\n",
       " 'VectorSizeHint',\n",
       " 'VectorSlicer',\n",
       " 'Word2Vec',\n",
       " 'Word2VecModel',\n",
       " '_BucketedRandomProjectionLSHParams',\n",
       " '_CountVectorizerParams',\n",
       " '_IDFParams',\n",
       " '_ImputerParams',\n",
       " '_LSH',\n",
       " '_LSHModel',\n",
       " '_LSHParams',\n",
       " '_MaxAbsScalerParams',\n",
       " '_MinMaxScalerParams',\n",
       " '_OneHotEncoderParams',\n",
       " '_PCAParams',\n",
       " '_RFormulaParams',\n",
       " '_RobustScalerParams',\n",
       " '_Selector',\n",
       " '_SelectorModel',\n",
       " '_SelectorParams',\n",
       " '_StandardScalerParams',\n",
       " '_StringIndexerParams',\n",
       " '_UnivariateFeatureSelectorParams',\n",
       " '_VarianceThresholdSelectorParams',\n",
       " '_VectorIndexerParams',\n",
       " '_Word2VecParams',\n",
       " '__all__',\n",
       " '__builtins__',\n",
       " '__cached__',\n",
       " '__doc__',\n",
       " '__file__',\n",
       " '__loader__',\n",
       " '__name__',\n",
       " '__package__',\n",
       " '__spec__',\n",
       " '_convert_to_vector',\n",
       " '_jvm',\n",
       " 'inherit_doc',\n",
       " 'keyword_only',\n",
       " 'since']"
      ]
     },
     "execution_count": 21,
     "metadata": {},
     "output_type": "execute_result"
    }
   ],
   "source": [
    "dir(pyspark.ml.feature)"
   ]
  },
  {
   "cell_type": "code",
   "execution_count": 22,
   "id": "07d077ca",
   "metadata": {},
   "outputs": [],
   "source": [
    "from pyspark.ml.feature import Tokenizer,StopWordsRemover,CountVectorizer,IDF\n",
    "from pyspark.ml.feature import StringIndexer"
   ]
  },
  {
   "cell_type": "code",
   "execution_count": 23,
   "id": "453fdb9a",
   "metadata": {},
   "outputs": [
    {
     "name": "stdout",
     "output_type": "stream",
     "text": [
      "+--------------------+----------------+\n",
      "|        course_title|         subject|\n",
      "+--------------------+----------------+\n",
      "|Ultimate Investme...|Business Finance|\n",
      "|Complete GST Cour...|Business Finance|\n",
      "|Financial Modelin...|Business Finance|\n",
      "|Beginner to Pro -...|Business Finance|\n",
      "|How To Maximize Y...|Business Finance|\n",
      "+--------------------+----------------+\n",
      "only showing top 5 rows\n",
      "\n"
     ]
    }
   ],
   "source": [
    "df.show(5)"
   ]
  },
  {
   "cell_type": "code",
   "execution_count": 24,
   "id": "594d68b0",
   "metadata": {},
   "outputs": [],
   "source": [
    "# Stages For the Pipeline\n",
    "tokenizer = Tokenizer(inputCol='course_title',outputCol='mytokens')\n",
    "# remove uimportant words ( this, that...)\n",
    "stopwords_remover = StopWordsRemover(inputCol='mytokens',outputCol='filtered_tokens')\n",
    "vectorizer = CountVectorizer(inputCol='filtered_tokens',outputCol='rawFeatures')\n",
    "idf = IDF(inputCol='rawFeatures',outputCol='vectorizedFeatures')\n",
    "\n"
   ]
  },
  {
   "cell_type": "code",
   "execution_count": 25,
   "id": "46f0f8c2",
   "metadata": {},
   "outputs": [],
   "source": [
    "# LabelEncoding/LabelIndexing\n",
    "labelEncoder = StringIndexer(inputCol='subject',outputCol='label').fit(df)"
   ]
  },
  {
   "cell_type": "code",
   "execution_count": 26,
   "id": "851e68c2",
   "metadata": {},
   "outputs": [
    {
     "name": "stdout",
     "output_type": "stream",
     "text": [
      "+--------------------+----------------+-----+\n",
      "|        course_title|         subject|label|\n",
      "+--------------------+----------------+-----+\n",
      "|Ultimate Investme...|Business Finance|  1.0|\n",
      "|Complete GST Cour...|Business Finance|  1.0|\n",
      "|Financial Modelin...|Business Finance|  1.0|\n",
      "|Beginner to Pro -...|Business Finance|  1.0|\n",
      "|How To Maximize Y...|Business Finance|  1.0|\n",
      "+--------------------+----------------+-----+\n",
      "only showing top 5 rows\n",
      "\n"
     ]
    }
   ],
   "source": [
    "labelEncoder.transform(df).show(5)"
   ]
  },
  {
   "cell_type": "code",
   "execution_count": 27,
   "id": "4841dab3",
   "metadata": {},
   "outputs": [
    {
     "data": {
      "text/plain": [
       "['Web Development',\n",
       " 'Business Finance',\n",
       " 'Musical Instruments',\n",
       " 'Graphic Design',\n",
       " 'Aprende tocar el Acorden de odo con tcnicahttpswwwudemycomaprendeatocarelacordeondeoidoycontecnicatrue25932134Beginner Level4 hours20140916T195145Z 263432Aprende los Secretos de la Armnica con HARPSOUL',\n",
       " 'Introduction Guitar A Course Beginnershttpswwwudemycomintroductiontoguitartrue251631156Beginner Level25 hours20141030T155939Z 650804Guitar Master Class Learning Play Guitar Z',\n",
       " 'Learn Classical Guitar Technique play Spanish Romancehttpswwwudemycomguitartechniquestrue19513164643All Levels5 hours20131118T175959Z 265888Learn Guitar Worship Learn 4 Songs unlock 1',\n",
       " 'Learn Play Fernando Sors Study B minorhttpswwwudemycomstudyinbminortrue115140359Intermediate Level43 mins20140127T205816Z 398746Piano Chord Based System  Learn Play Pros Do',\n",
       " 'Multiply returns Value Investinghttpswwwudemycommultiplyyourreturnsusingvalueinvestingtrue2019421963All Levels45 hours20150723T000833Z 874284Weekly Forex Analysis Baraq FX',\n",
       " 'play Electric Guitarhttpswwwudemycomelectricguitarbeginnersmethodtrue501105520Beginner Level2 hours20161229T002406Z 42038Learn Piano Today Play Piano Course Quick Lessons']"
      ]
     },
     "execution_count": 27,
     "metadata": {},
     "output_type": "execute_result"
    }
   ],
   "source": [
    "labelEncoder.labels"
   ]
  },
  {
   "cell_type": "code",
   "execution_count": 28,
   "id": "62a37710",
   "metadata": {},
   "outputs": [],
   "source": [
    "label_dict = {'Web Development':0.0,\n",
    " 'Business Finance':1.0,\n",
    " 'Musical Instruments':2.0,\n",
    " 'Graphic Design':3.0}"
   ]
  },
  {
   "cell_type": "code",
   "execution_count": 29,
   "id": "1b8880fd",
   "metadata": {},
   "outputs": [
    {
     "name": "stdout",
     "output_type": "stream",
     "text": [
      "+--------------------+----------------+\n",
      "|        course_title|         subject|\n",
      "+--------------------+----------------+\n",
      "|Ultimate Investme...|Business Finance|\n",
      "|Complete GST Cour...|Business Finance|\n",
      "|Financial Modelin...|Business Finance|\n",
      "|Beginner to Pro -...|Business Finance|\n",
      "|How To Maximize Y...|Business Finance|\n",
      "|Trading Penny Sto...|Business Finance|\n",
      "|Investing And Tra...|Business Finance|\n",
      "|Trading Stock Cha...|Business Finance|\n",
      "|Options Trading 3...|Business Finance|\n",
      "|The Only Investme...|Business Finance|\n",
      "|Forex Trading Sec...|Business Finance|\n",
      "|Trading Options W...|Business Finance|\n",
      "|Financial Managem...|Business Finance|\n",
      "|Forex Trading Cou...|Business Finance|\n",
      "|Python Algo Tradi...|Business Finance|\n",
      "|Short Selling: Le...|Business Finance|\n",
      "|Basic Technical A...|Business Finance|\n",
      "|The Complete Char...|Business Finance|\n",
      "|7 Deadly Mistakes...|Business Finance|\n",
      "|Financial Stateme...|Business Finance|\n",
      "+--------------------+----------------+\n",
      "only showing top 20 rows\n",
      "\n"
     ]
    }
   ],
   "source": [
    "df.show()"
   ]
  },
  {
   "cell_type": "code",
   "execution_count": 30,
   "id": "07e22cbd",
   "metadata": {},
   "outputs": [],
   "source": [
    "df = labelEncoder.transform(df)"
   ]
  },
  {
   "cell_type": "code",
   "execution_count": 31,
   "id": "82b0e198",
   "metadata": {},
   "outputs": [
    {
     "name": "stdout",
     "output_type": "stream",
     "text": [
      "+--------------------+----------------+-----+\n",
      "|        course_title|         subject|label|\n",
      "+--------------------+----------------+-----+\n",
      "|Ultimate Investme...|Business Finance|  1.0|\n",
      "|Complete GST Cour...|Business Finance|  1.0|\n",
      "|Financial Modelin...|Business Finance|  1.0|\n",
      "|Beginner to Pro -...|Business Finance|  1.0|\n",
      "|How To Maximize Y...|Business Finance|  1.0|\n",
      "+--------------------+----------------+-----+\n",
      "only showing top 5 rows\n",
      "\n"
     ]
    }
   ],
   "source": [
    "df.show(5)"
   ]
  },
  {
   "cell_type": "code",
   "execution_count": 32,
   "id": "00aed3e6",
   "metadata": {},
   "outputs": [],
   "source": [
    "### Split Dataset 70% for training / 30% for testing\n",
    "(trainDF,testDF) = df.randomSplit((0.7,0.3),seed=42)"
   ]
  },
  {
   "cell_type": "code",
   "execution_count": 33,
   "id": "b1d8be20",
   "metadata": {},
   "outputs": [
    {
     "name": "stdout",
     "output_type": "stream",
     "text": [
      "+--------------------+--------------------+-----+\n",
      "|        course_title|             subject|label|\n",
      "+--------------------+--------------------+-----+\n",
      "|#1 Piano Hand Coo...| Musical Instruments|  2.0|\n",
      "|#10 Hand Coordina...| Musical Instruments|  2.0|\n",
      "|#4 Piano Hand Coo...| Musical Instruments|  2.0|\n",
      "|#5  Piano Hand Co...| Musical Instruments|  2.0|\n",
      "|#6 Piano Hand Coo...| Musical Instruments|  2.0|\n",
      "|'Geometry Of Chan...|    Business Finance|  1.0|\n",
      "|              000!\"\"|Learn Classical G...|  6.0|\n",
      "|1 - Concepts of S...|    Business Finance|  1.0|\n",
      "|          1 Hour CSS|     Web Development|  0.0|\n",
      "|1. Principles of ...|    Business Finance|  1.0|\n",
      "|10 Numbers Every ...|    Business Finance|  1.0|\n",
      "|10.  Bonds and Bo...|    Business Finance|  1.0|\n",
      "|101 Blues riffs -...| Musical Instruments|  2.0|\n",
      "|15 Mandamientos p...|    Business Finance|  1.0|\n",
      "|17 Complete JavaS...|     Web Development|  0.0|\n",
      "|188% Profit in 1Y...|    Business Finance|  1.0|\n",
      "|2 Easy Steps To I...|    Business Finance|  1.0|\n",
      "|3 step formula fo...| Musical Instruments|  2.0|\n",
      "|30 Day Guitar Jum...| Musical Instruments|  2.0|\n",
      "|3DS MAX - Learn 3...|      Graphic Design|  3.0|\n",
      "+--------------------+--------------------+-----+\n",
      "only showing top 20 rows\n",
      "\n"
     ]
    }
   ],
   "source": [
    "trainDF.show()"
   ]
  },
  {
   "cell_type": "code",
   "execution_count": 34,
   "id": "6b5c43ee",
   "metadata": {},
   "outputs": [],
   "source": [
    "### Estimator\n",
    "from pyspark.ml.classification import LogisticRegression"
   ]
  },
  {
   "cell_type": "code",
   "execution_count": 35,
   "id": "550d6dee",
   "metadata": {},
   "outputs": [],
   "source": [
    "lr = LogisticRegression(featuresCol='vectorizedFeatures',labelCol='label')"
   ]
  },
  {
   "cell_type": "markdown",
   "id": "62f5a1da",
   "metadata": {},
   "source": [
    "##  Building the Pipeline\n"
   ]
  },
  {
   "cell_type": "code",
   "execution_count": 36,
   "id": "0a25f9ac",
   "metadata": {},
   "outputs": [],
   "source": [
    "from pyspark.ml import Pipeline"
   ]
  },
  {
   "cell_type": "code",
   "execution_count": 37,
   "id": "85f1d948",
   "metadata": {},
   "outputs": [],
   "source": [
    "pipeline = Pipeline(stages=[tokenizer,stopwords_remover,vectorizer,idf,lr])"
   ]
  },
  {
   "cell_type": "code",
   "execution_count": 38,
   "id": "51b2ca4e",
   "metadata": {},
   "outputs": [
    {
     "data": {
      "text/plain": [
       "Pipeline_6f86713a3967"
      ]
     },
     "execution_count": 38,
     "metadata": {},
     "output_type": "execute_result"
    }
   ],
   "source": [
    "pipeline"
   ]
  },
  {
   "cell_type": "code",
   "execution_count": 39,
   "id": "80d5e6f1",
   "metadata": {},
   "outputs": [
    {
     "data": {
      "text/plain": [
       "Param(parent='Pipeline_6f86713a3967', name='stages', doc='a list of pipeline stages')"
      ]
     },
     "execution_count": 39,
     "metadata": {},
     "output_type": "execute_result"
    }
   ],
   "source": [
    "pipeline.stages"
   ]
  },
  {
   "cell_type": "code",
   "execution_count": 40,
   "id": "ad61096f",
   "metadata": {},
   "outputs": [],
   "source": [
    "# Building MOdel\n",
    "lr_model = pipeline.fit(trainDF)"
   ]
  },
  {
   "cell_type": "code",
   "execution_count": 41,
   "id": "4c10334a",
   "metadata": {},
   "outputs": [
    {
     "data": {
      "text/plain": [
       "PipelineModel_2ae2bebfb215"
      ]
     },
     "execution_count": 41,
     "metadata": {},
     "output_type": "execute_result"
    }
   ],
   "source": [
    "lr_model"
   ]
  },
  {
   "cell_type": "code",
   "execution_count": 42,
   "id": "0fb4e5cb",
   "metadata": {},
   "outputs": [],
   "source": [
    "# Predictions on our Test Dataset\n",
    "predictions = lr_model.transform(testDF)"
   ]
  },
  {
   "cell_type": "code",
   "execution_count": 43,
   "id": "032678a8",
   "metadata": {},
   "outputs": [
    {
     "name": "stdout",
     "output_type": "stream",
     "text": [
      "+--------------------+-------------------+-----+--------------------+--------------------+--------------------+--------------------+--------------------+--------------------+----------+\n",
      "|        course_title|            subject|label|            mytokens|     filtered_tokens|         rawFeatures|  vectorizedFeatures|       rawPrediction|         probability|prediction|\n",
      "+--------------------+-------------------+-----+--------------------+--------------------+--------------------+--------------------+--------------------+--------------------+----------+\n",
      "|#12 Hand Coordina...|Musical Instruments|  2.0|[#12, hand, coord...|[#12, hand, coord...|(3670,[394,491,60...|(3670,[394,491,60...|[5.54102657084344...|[0.28268355884799...|       2.0|\n",
      "|#7 Piano Hand Coo...|Musical Instruments|  2.0|[#7, piano, hand,...|[#7, piano, hand,...|(3670,[9,13,60,23...|(3670,[9,13,60,23...|[-6.0823322911294...|[1.03215808625497...|       2.0|\n",
      "|'Greensleeves' Cr...|Musical Instruments|  2.0|['greensleeves', ...|['greensleeves', ...|(3670,[6,9,45,375...|(3670,[6,9,45,375...|[-1.0421312509514...|[1.23270089171255...|       2.0|\n",
      "|* An Integrated A...|   Business Finance|  1.0|[*, an, integrate...|[*, integrated, a...|(3670,[23,75,435,...|(3670,[23,75,435,...|[-2.8211817264969...|[4.77760514505753...|       1.0|\n",
      "|         1 Hour HTML|    Web Development|  0.0|     [1, hour, html]|     [1, hour, html]|(3670,[24,36,110]...|(3670,[24,36,110]...|[21.7088196949552...|[0.99999998997280...|       0.0|\n",
      "|   1 Hour JavaScript|    Web Development|  0.0|[1, hour, javascr...|[1, hour, javascr...|(3670,[18,36,110]...|(3670,[18,36,110]...|[20.0054038054061...|[0.99999996031555...|       0.0|\n",
      "|       1 hour jQuery|    Web Development|  0.0|   [1, hour, jquery]|   [1, hour, jquery]|(3670,[36,62,110]...|(3670,[36,62,110]...|[18.0923732215371...|[0.99999972290786...|       0.0|\n",
      "|101 Awesome Rocka...|Musical Instruments|  2.0|[101, awesome, ro...|[101, awesome, ro...|(3670,[7,233,291,...|(3670,[7,233,291,...|[-8.4472424796447...|[4.30624170511669...|       2.0|\n",
      "|15  Motion Graphi...|     Graphic Design|  3.0|[15, , motion, gr...|[15, , motion, gr...|(3670,[35,90,434,...|(3670,[35,90,434,...|[-24.070755044105...|[7.95180495683633...|       3.0|\n",
      "|150 Rock Guitar L...|Musical Instruments|  2.0|[150, rock, guita...|[150, rock, guita...|(3670,[7,145,175,...|(3670,[7,145,175,...|[-6.0537484583003...|[8.42550606648210...|       2.0|\n",
      "|16 Guitar Chords ...|Musical Instruments|  2.0|[16, guitar, chor...|[16, guitar, chor...|(3670,[0,7,129,17...|(3670,[0,7,129,17...|[-6.3817794458033...|[7.02018485274217...|       2.0|\n",
      "|2. Principles of ...|   Business Finance|  1.0|[2., principles, ...|[2., principles, ...|(3670,[0,41,102,3...|(3670,[0,41,102,3...|[0.16718557181527...|[2.62404804761491...|       1.0|\n",
      "|3 Little Pigs: A ...|   Business Finance|  1.0|[3, little, pigs:...|[3, little, pigs:...|(3670,[2,11,60,14...|(3670,[2,11,60,14...|[-7.8293554334438...|[5.14413406052919...|       1.0|\n",
      "|3 documentos clav...|   Business Finance|  1.0|[3, documentos, c...|[3, documentos, c...|(3670,[60,89,165,...|(3670,[60,89,165,...|[4.03455614291828...|[0.00472104045521...|       1.0|\n",
      "|3. Compound Inter...|   Business Finance|  1.0|[3., compound, in...|[3., compound, in...| (3670,[1092],[1.0])|(3670,[1092],[6.7...|[1.89940744155608...|[4.28050170070321...|       1.0|\n",
      "|31 Day Guitar Cha...|Musical Instruments|  2.0|[31, day, guitar,...|[31, day, guitar,...|(3670,[7,112,1870...|(3670,[7,112,1870...|[-9.0086539365972...|[1.15163924376083...|       2.0|\n",
      "|3D Programming wi...|    Web Development|  0.0|[3d, programming,...|[3d, programming,...|(3670,[4,87,339],...|(3670,[4,87,339],...|[10.9077562525464...|[0.98967316393323...|       0.0|\n",
      "|4. Ordinary Simpl...|   Business Finance|  1.0|[4., ordinary, si...|[4., ordinary, si...|(3670,[38,102],[1...|(3670,[38,102],[3...|[2.57286792982268...|[3.77644802024190...|       1.0|\n",
      "|5 lecciones que t...|Musical Instruments|  2.0|[5, lecciones, qu...|[5, lecciones, qu...|(3670,[82,3515],[...|(3670,[82,3515],[...|[6.02547956932706...|[0.16529587691413...|       1.0|\n",
      "|6 Must Know Trick...|Musical Instruments|  2.0|[6, must, know, t...|[6, must, know, t...|(3670,[145,255,32...|(3670,[145,255,32...|[13.8525237348521...|[0.99589111985335...|       0.0|\n",
      "+--------------------+-------------------+-----+--------------------+--------------------+--------------------+--------------------+--------------------+--------------------+----------+\n",
      "only showing top 20 rows\n",
      "\n"
     ]
    }
   ],
   "source": [
    "predictions.show()"
   ]
  },
  {
   "cell_type": "code",
   "execution_count": 44,
   "id": "bb1452b2",
   "metadata": {},
   "outputs": [
    {
     "data": {
      "text/plain": [
       "['course_title',\n",
       " 'subject',\n",
       " 'label',\n",
       " 'mytokens',\n",
       " 'filtered_tokens',\n",
       " 'rawFeatures',\n",
       " 'vectorizedFeatures',\n",
       " 'rawPrediction',\n",
       " 'probability',\n",
       " 'prediction']"
      ]
     },
     "execution_count": 44,
     "metadata": {},
     "output_type": "execute_result"
    }
   ],
   "source": [
    "# Select Columns\n",
    "predictions.columns"
   ]
  },
  {
   "cell_type": "code",
   "execution_count": 45,
   "id": "126af052",
   "metadata": {},
   "outputs": [
    {
     "name": "stdout",
     "output_type": "stream",
     "text": [
      "+--------------------+--------------------+-------------------+-----+----------+\n",
      "|       rawPrediction|         probability|            subject|label|prediction|\n",
      "+--------------------+--------------------+-------------------+-----+----------+\n",
      "|[5.54102657084344...|[0.28268355884799...|Musical Instruments|  2.0|       2.0|\n",
      "|[-6.0823322911294...|[1.03215808625497...|Musical Instruments|  2.0|       2.0|\n",
      "|[-1.0421312509514...|[1.23270089171255...|Musical Instruments|  2.0|       2.0|\n",
      "|[-2.8211817264969...|[4.77760514505753...|   Business Finance|  1.0|       1.0|\n",
      "|[21.7088196949552...|[0.99999998997280...|    Web Development|  0.0|       0.0|\n",
      "|[20.0054038054061...|[0.99999996031555...|    Web Development|  0.0|       0.0|\n",
      "|[18.0923732215371...|[0.99999972290786...|    Web Development|  0.0|       0.0|\n",
      "|[-8.4472424796447...|[4.30624170511669...|Musical Instruments|  2.0|       2.0|\n",
      "|[-24.070755044105...|[7.95180495683633...|     Graphic Design|  3.0|       3.0|\n",
      "|[-6.0537484583003...|[8.42550606648210...|Musical Instruments|  2.0|       2.0|\n",
      "+--------------------+--------------------+-------------------+-----+----------+\n",
      "only showing top 10 rows\n",
      "\n"
     ]
    }
   ],
   "source": [
    "predictions.select('rawPrediction','probability','subject','label','prediction').show(10)"
   ]
  },
  {
   "cell_type": "code",
   "execution_count": 46,
   "id": "cccbaaa8",
   "metadata": {},
   "outputs": [],
   "source": [
    "from pyspark.ml.evaluation import MulticlassClassificationEvaluator"
   ]
  },
  {
   "cell_type": "code",
   "execution_count": 47,
   "id": "ba5a8933",
   "metadata": {},
   "outputs": [],
   "source": [
    "evaluator = MulticlassClassificationEvaluator(labelCol='label',predictionCol='prediction',metricName='accuracy')"
   ]
  },
  {
   "cell_type": "code",
   "execution_count": 48,
   "id": "1174f44e",
   "metadata": {},
   "outputs": [
    {
     "data": {
      "text/plain": [
       "0.9173003802281369"
      ]
     },
     "execution_count": 48,
     "metadata": {},
     "output_type": "execute_result"
    }
   ],
   "source": [
    "accuracy = evaluator.evaluate(predictions)\n",
    "accuracy"
   ]
  },
  {
   "cell_type": "code",
   "execution_count": 49,
   "id": "7b405cba",
   "metadata": {},
   "outputs": [],
   "source": [
    "from pyspark.mllib.evaluation import MulticlassMetrics"
   ]
  },
  {
   "cell_type": "code",
   "execution_count": 50,
   "id": "64de15af",
   "metadata": {},
   "outputs": [],
   "source": [
    "y_true = predictions.select('label')\n",
    "y_true = y_true.toPandas()\n",
    "y_pred = predictions.select('prediction')\n",
    "y_pred = y_pred.toPandas()"
   ]
  },
  {
   "cell_type": "code",
   "execution_count": 51,
   "id": "e02afd11",
   "metadata": {},
   "outputs": [],
   "source": [
    "from sklearn.metrics import confusion_matrix,classification_report"
   ]
  },
  {
   "cell_type": "code",
   "execution_count": 52,
   "id": "edbf20cd",
   "metadata": {},
   "outputs": [
    {
     "data": {
      "text/plain": [
       "array([[321,  10,   1,   4,   0,   0],\n",
       "       [  9, 340,   1,   1,   0,   0],\n",
       "       [  6,  15, 156,   1,   0,   0],\n",
       "       [  8,  23,   6, 148,   0,   0],\n",
       "       [  0,   1,   0,   0,   0,   0],\n",
       "       [  0,   1,   0,   0,   0,   0]], dtype=int64)"
      ]
     },
     "execution_count": 52,
     "metadata": {},
     "output_type": "execute_result"
    }
   ],
   "source": [
    "cm = confusion_matrix(y_true,y_pred)\n",
    "cm"
   ]
  },
  {
   "cell_type": "code",
   "execution_count": 53,
   "id": "9b67aa40",
   "metadata": {},
   "outputs": [],
   "source": [
    "import matplotlib.pyplot as plt\n",
    "import numpy as np\n",
    "import itertools\n",
    "\n",
    "def plot_confusion_matrix(cm, classes,\n",
    "                          normalize=False,\n",
    "                          title='Confusion matrix',\n",
    "                          cmap=plt.cm.Blues):\n",
    "    \"\"\"\n",
    "    This function prints and plots the confusion matrix.\n",
    "    Normalization can be applied by setting `normalize=True`.\n",
    "    \"\"\"\n",
    "    if normalize:\n",
    "        cm = cm.astype('float') / cm.sum(axis=1)[:, np.newaxis]\n",
    "        print(\"Normalized confusion matrix\")\n",
    "    else:\n",
    "        print('Confusion matrix, without normalization')\n",
    "\n",
    "    print(cm)\n",
    "\n",
    "    plt.imshow(cm, interpolation='nearest', cmap=cmap)\n",
    "    plt.title(title)\n",
    "    plt.colorbar()\n",
    "    tick_marks = np.arange(len(classes))\n",
    "    plt.xticks(tick_marks, classes, rotation=45)\n",
    "    plt.yticks(tick_marks, classes)\n",
    "\n",
    "    fmt = '.2f' if normalize else 'd'\n",
    "    thresh = cm.max() / 2.\n",
    "    for i, j in itertools.product(range(cm.shape[0]), range(cm.shape[1])):\n",
    "        plt.text(j, i, format(cm[i, j], fmt),\n",
    "                 horizontalalignment=\"center\",\n",
    "                 color=\"white\" if cm[i, j] > thresh else \"black\")\n",
    "\n",
    "    plt.tight_layout()\n",
    "    plt.ylabel('True label')\n",
    "    plt.xlabel('Predicted label')\n"
   ]
  },
  {
   "cell_type": "code",
   "execution_count": 54,
   "id": "4e8563f0",
   "metadata": {},
   "outputs": [
    {
     "data": {
      "text/plain": [
       "dict_keys(['Web Development', 'Business Finance', 'Musical Instruments', 'Graphic Design'])"
      ]
     },
     "execution_count": 54,
     "metadata": {},
     "output_type": "execute_result"
    }
   ],
   "source": [
    "label_dict.keys()"
   ]
  },
  {
   "cell_type": "code",
   "execution_count": 55,
   "id": "686c90e0",
   "metadata": {},
   "outputs": [],
   "source": [
    "class_names = ['Web Development', 'Business Finance', 'Musical Instruments', 'Graphic Design','N4','N5']"
   ]
  },
  {
   "cell_type": "code",
   "execution_count": 56,
   "id": "5b2237f7",
   "metadata": {},
   "outputs": [
    {
     "name": "stdout",
     "output_type": "stream",
     "text": [
      "Confusion matrix, without normalization\n",
      "[[321  10   1   4   0   0]\n",
      " [  9 340   1   1   0   0]\n",
      " [  6  15 156   1   0   0]\n",
      " [  8  23   6 148   0   0]\n",
      " [  0   1   0   0   0   0]\n",
      " [  0   1   0   0   0   0]]\n"
     ]
    },
    {
     "data": {
      "image/png": "[encoded data removed]",
      "text/plain": [
       "<Figure size 640x480 with 2 Axes>"
      ]
     },
     "metadata": {},
     "output_type": "display_data"
    }
   ],
   "source": [
    "plot_confusion_matrix(cm,class_names)"
   ]
  },
  {
   "cell_type": "code",
   "execution_count": 57,
   "id": "fbf9f6c3",
   "metadata": {},
   "outputs": [],
   "source": [
    "import warnings\n",
    "warnings.filterwarnings('ignore')"
   ]
  },
  {
   "cell_type": "code",
   "execution_count": 58,
   "id": "17b1bfb6",
   "metadata": {},
   "outputs": [
    {
     "name": "stdout",
     "output_type": "stream",
     "text": [
      "              precision    recall  f1-score   support\n",
      "\n",
      "         0.0       0.93      0.96      0.94       336\n",
      "         1.0       0.87      0.97      0.92       351\n",
      "         2.0       0.95      0.88      0.91       178\n",
      "         3.0       0.96      0.80      0.87       185\n",
      "         5.0       0.00      0.00      0.00         1\n",
      "         8.0       0.00      0.00      0.00         1\n",
      "\n",
      "    accuracy                           0.92      1052\n",
      "   macro avg       0.62      0.60      0.61      1052\n",
      "weighted avg       0.92      0.92      0.92      1052\n",
      "\n"
     ]
    }
   ],
   "source": [
    "# Classication Report\n",
    "print(classification_report(y_true,y_pred))"
   ]
  },
  {
   "cell_type": "code",
   "execution_count": 59,
   "id": "b96f01ba",
   "metadata": {},
   "outputs": [
    {
     "name": "stdout",
     "output_type": "stream",
     "text": [
      "                     precision    recall  f1-score   support\n",
      "\n",
      "    Web Development       0.93      0.96      0.94       336\n",
      "   Business Finance       0.87      0.97      0.92       351\n",
      "Musical Instruments       0.95      0.88      0.91       178\n",
      "     Graphic Design       0.96      0.80      0.87       185\n",
      "                 N4       0.00      0.00      0.00         1\n",
      "                 N5       0.00      0.00      0.00         1\n",
      "\n",
      "           accuracy                           0.92      1052\n",
      "          macro avg       0.62      0.60      0.61      1052\n",
      "       weighted avg       0.92      0.92      0.92      1052\n",
      "\n"
     ]
    }
   ],
   "source": [
    "# Classication Report\n",
    "print(classification_report(y_true,y_pred,target_names=class_names))"
   ]
  },
  {
   "cell_type": "code",
   "execution_count": 60,
   "id": "0e3fdd6e",
   "metadata": {},
   "outputs": [
    {
     "data": {
      "text/plain": [
       "<map at 0x2a2a1654fd0>"
      ]
     },
     "execution_count": 60,
     "metadata": {},
     "output_type": "execute_result"
    }
   ],
   "source": [
    "class_temp = predictions.select(\"label\").groupBy(\"label\").count().sort('count', ascending=False).toPandas()\n",
    "class_temp = class_temp[\"label\"].values.tolist()\n",
    "class_names = map(str, class_temp)\n",
    "# # # print(class_name)\n",
    "class_names"
   ]
  },
  {
   "cell_type": "markdown",
   "id": "031eac68",
   "metadata": {},
   "source": [
    "### Making Single Prediction\n",
    "+ sample as DF\n",
    "+ apply pipeline"
   ]
  },
  {
   "cell_type": "code",
   "execution_count": 61,
   "id": "8201147f",
   "metadata": {},
   "outputs": [],
   "source": [
    "from pyspark.sql.types import StringType"
   ]
  },
  {
   "cell_type": "code",
   "execution_count": 63,
   "id": "3c13700b",
   "metadata": {},
   "outputs": [
    {
     "name": "stdout",
     "output_type": "stream",
     "text": [
      "+--------------------------------------+\n",
      "|course_title                          |\n",
      "+--------------------------------------+\n",
      "|how to be a good business man         |\n",
      "|Create ur graphic interface in 10 days|\n",
      "|JavaScript basic                      |\n",
      "|trading master                        |\n",
      "+--------------------------------------+\n",
      "\n"
     ]
    }
   ],
   "source": [
    "ex1 = spark.read.csv(\"data/Classeur1.csv\",header=True,inferSchema=True)\n",
    "ex1.show(truncate=False)"
   ]
  },
  {
   "cell_type": "code",
   "execution_count": 64,
   "id": "4887b2db",
   "metadata": {},
   "outputs": [],
   "source": [
    "pred_ex1 = lr_model.transform(ex1)"
   ]
  },
  {
   "cell_type": "code",
   "execution_count": 65,
   "id": "0a6f5333",
   "metadata": {},
   "outputs": [
    {
     "name": "stdout",
     "output_type": "stream",
     "text": [
      "+--------------------+--------------------+--------------------+--------------------+--------------------+--------------------+--------------------+----------+\n",
      "|        course_title|            mytokens|     filtered_tokens|         rawFeatures|  vectorizedFeatures|       rawPrediction|         probability|prediction|\n",
      "+--------------------+--------------------+--------------------+--------------------+--------------------+--------------------+--------------------+----------+\n",
      "|how to be a good ...|[how, to, be, a, ...|[good, business, ...|(3670,[53,2144],[...|(3670,[53,2144],[...|[1.51273947444961...|[7.81464371795549...|       1.0|\n",
      "|Create ur graphic...|[create, ur, grap...|[create, ur, grap...|(3670,[14,90,134,...|(3670,[14,90,134,...|[-2.8701787722123...|[2.37250737756951...|       3.0|\n",
      "|    JavaScript basic| [javascript, basic]| [javascript, basic]|(3670,[18,81],[1....|(3670,[18,81],[3....|[21.0993745477635...|[0.99999999180665...|       0.0|\n",
      "|      trading master|   [trading, master]|   [trading, master]|(3670,[2,31],[1.0...|(3670,[2,31],[2.6...|[-1.7200416162825...|[3.62875155250914...|       1.0|\n",
      "+--------------------+--------------------+--------------------+--------------------+--------------------+--------------------+--------------------+----------+\n",
      "\n"
     ]
    }
   ],
   "source": [
    "pred_ex1.show()"
   ]
  },
  {
   "cell_type": "code",
   "execution_count": 66,
   "id": "20a1576a",
   "metadata": {},
   "outputs": [
    {
     "data": {
      "text/plain": [
       "['course_title',\n",
       " 'mytokens',\n",
       " 'filtered_tokens',\n",
       " 'rawFeatures',\n",
       " 'vectorizedFeatures',\n",
       " 'rawPrediction',\n",
       " 'probability',\n",
       " 'prediction']"
      ]
     },
     "execution_count": 66,
     "metadata": {},
     "output_type": "execute_result"
    }
   ],
   "source": [
    "pred_ex1.columns"
   ]
  },
  {
   "cell_type": "code",
   "execution_count": 67,
   "id": "3e4a6b3a",
   "metadata": {},
   "outputs": [
    {
     "name": "stdout",
     "output_type": "stream",
     "text": [
      "+--------------------+--------------------+--------------------+----------+\n",
      "|        course_title|       rawPrediction|         probability|prediction|\n",
      "+--------------------+--------------------+--------------------+----------+\n",
      "|how to be a good ...|[1.51273947444961...|[7.81464371795549...|       1.0|\n",
      "|Create ur graphic...|[-2.8701787722123...|[2.37250737756951...|       3.0|\n",
      "|    JavaScript basic|[21.0993745477635...|[0.99999999180665...|       0.0|\n",
      "|      trading master|[-1.7200416162825...|[3.62875155250914...|       1.0|\n",
      "+--------------------+--------------------+--------------------+----------+\n",
      "\n"
     ]
    }
   ],
   "source": [
    "pred_ex1.select('course_title','rawPrediction','probability','prediction').show()"
   ]
  },
  {
   "cell_type": "code",
   "execution_count": 68,
   "id": "5a447559",
   "metadata": {},
   "outputs": [
    {
     "data": {
      "text/plain": [
       "{'Web Development': 0.0,\n",
       " 'Business Finance': 1.0,\n",
       " 'Musical Instruments': 2.0,\n",
       " 'Graphic Design': 3.0}"
      ]
     },
     "execution_count": 68,
     "metadata": {},
     "output_type": "execute_result"
    }
   ],
   "source": [
    "label_dict"
   ]
  },
  {
   "cell_type": "code",
   "execution_count": null,
   "id": "27f1376a",
   "metadata": {},
   "outputs": [],
   "source": []
  }
 ],
 "metadata": {
  "kernelspec": {
   "display_name": "Python 3 (ipykernel)",
   "language": "python",
   "name": "python3"
  },
  "language_info": {
   "codemirror_mode": {
    "name": "ipython",
    "version": 3
   },
   "file_extension": ".py",
   "mimetype": "text/x-python",
   "name": "python",
   "nbconvert_exporter": "python",
   "pygments_lexer": "ipython3",
   "version": "3.9.13"
  }
 },
 "nbformat": 4,
 "nbformat_minor": 5
}
